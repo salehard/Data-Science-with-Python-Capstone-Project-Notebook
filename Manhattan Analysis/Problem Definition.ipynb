{
 "cells": [
  {
   "cell_type": "markdown",
   "metadata": {},
   "source": [
    "<h1>Introduction/Business Problem</h1>\n",
    "<hr>"
   ]
  },
  {
   "cell_type": "markdown",
   "metadata": {},
   "source": [
    "<h4>I explored New York City in Manhattan Area and segmented and clustered their neighborhoods. for this, I went through the following steps: </h4><br>\n",
    "&nbsp;&nbsp;&nbsp;&nbsp;&nbsp;<ls>1- Categorized venue information driven from Foursquare in 11 category.</ls><br>\n",
    "&nbsp;&nbsp;&nbsp;&nbsp;&nbsp;<ls>2- Land uses in the study area were investigated.</ls><br>\n",
    "&nbsp;&nbsp;&nbsp;&nbsp;&nbsp;<ls>3- Most land use was identified.</ls> <br> \n",
    "&nbsp;&nbsp;&nbsp;&nbsp;&nbsp;<ls>4- Using the classification, network clustering was done in 5 cluster.</ls><br>\n",
    "&nbsp;&nbsp;&nbsp;&nbsp;&nbsp;<ls>5- The number of land uses for each cluster was determined and compared with other clusters.</ls><br>\n",
    "&nbsp;&nbsp;&nbsp;&nbsp;&nbsp;<ls>6- Using the analyzed information, we will be able to select the most desirable area.</ls><br>   "
   ]
  },
  {
   "cell_type": "markdown",
   "metadata": {},
   "source": [
    "<h4>The categories I used to classify land uses in this analysis:</h4><br>\n",
    "&nbsp;&nbsp;&nbsp;&nbsp;&nbsp;<ls>1- Neighborhood Latitude</ls><br>\n",
    "&nbsp;&nbsp;&nbsp;&nbsp;&nbsp;<ls>2- Neighborhood Longitude</ls><br>\n",
    "&nbsp;&nbsp;&nbsp;&nbsp;&nbsp;<ls>4- Arts </ls><br>\n",
    "&nbsp;&nbsp;&nbsp;&nbsp;&nbsp;<ls>5- Bar</ls><br>\n",
    "&nbsp;&nbsp;&nbsp;&nbsp;&nbsp;<ls>6- Cafe<ls><br>\n",
    "&nbsp;&nbsp;&nbsp;&nbsp;&nbsp;<ls>7- Entertainment</ls><br>\n",
    "&nbsp;&nbsp;&nbsp;&nbsp;&nbsp;<ls>8- Health & Beauty</ls><br>\n",
    "&nbsp;&nbsp;&nbsp;&nbsp;&nbsp;<ls>9- Office</ls><br>\n",
    "&nbsp;&nbsp;&nbsp;&nbsp;&nbsp;<ls>10- Restaurant & Food</ls><br>\n",
    "&nbsp;&nbsp;&nbsp;&nbsp;&nbsp;<ls>11- School </ls><br>\n",
    "&nbsp;&nbsp;&nbsp;&nbsp;&nbsp;<ls>12- Shop & Store</ls><br>\n",
    "&nbsp;&nbsp;&nbsp;&nbsp;&nbsp;<ls>13- Sport</ls><br>\n",
    "&nbsp;&nbsp;&nbsp;&nbsp;&nbsp;<ls>14- Transit</ls><br>"
   ]
  },
  {
   "cell_type": "markdown",
   "metadata": {},
   "source": [
    "<i>It should be noted that the information obtained is for a range of 500 meters in each area.<br>\n",
    "The classification is done according to the information obtained from Foursquare API.</i>"
   ]
  }
 ],
 "metadata": {
  "kernelspec": {
   "display_name": "Python 3",
   "language": "python",
   "name": "python3"
  },
  "language_info": {
   "codemirror_mode": {
    "name": "ipython",
    "version": 3
   },
   "file_extension": ".py",
   "mimetype": "text/x-python",
   "name": "python",
   "nbconvert_exporter": "python",
   "pygments_lexer": "ipython3",
   "version": "3.7.0"
  }
 },
 "nbformat": 4,
 "nbformat_minor": 2
}
