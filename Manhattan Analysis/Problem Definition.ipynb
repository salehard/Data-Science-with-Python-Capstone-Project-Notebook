{
 "cells": [
  {
   "cell_type": "markdown",
   "metadata": {},
   "source": [
    "<h1>Introduction/Business Problem</h1>\n",
    "<hr>"
   ]
  },
  {
   "cell_type": "markdown",
   "metadata": {},
   "source": [
    "<h4>I explored New York City in Manhattan Area and segmented and clustered their neighborhoods. for this, I went through the following steps: </h4><br>\n",
    "1- Categorized venue information driven from Foursquare in 11 category.<br>\n",
    "2- Land uses in the study area were investigated.<br>\n",
    "3- Most land use was identified.<br> \n",
    "4- Using the classification, network clustering was done in 5 cluster.<br>\n",
    "5- The number of land uses for each cluster was determined and compared with other clusters.<br>\n",
    "6- Using the analyzed information, we will be able to select the most desirable area.<br>   "
   ]
  },
  {
   "cell_type": "markdown",
   "metadata": {},
   "source": [
    "<h4>The categories I used to classify land uses in this analysis:</h4><br>\n",
    "1- Neighborhood Latitude<br>\n",
    "2- Neighborhood Longitude<br>\n",
    "4- Arts <br>\n",
    "5- Bar<br>\n",
    "6- Caf<br>\n",
    "7- Entertainment<br>\n",
    "8- Health & Beauty<br>\n",
    "9- Office<br>\n",
    "10- Restaurant & Food<br>\n",
    "11- School <br>\n",
    "12- Shop & Store<br>\n",
    "13- Sport<br>\n",
    "14- Transit<br>"
   ]
  },
  {
   "cell_type": "markdown",
   "metadata": {},
   "source": [
    "<i>It should be noted that the information obtained is for a range of 500 meters in each area.<br>\n",
    "The classification is done according to the information obtained from Foursquare API.</i>"
   ]
  }
 ],
 "metadata": {
  "kernelspec": {
   "display_name": "Python 3",
   "language": "python",
   "name": "python3"
  },
  "language_info": {
   "codemirror_mode": {
    "name": "ipython",
    "version": 3
   },
   "file_extension": ".py",
   "mimetype": "text/x-python",
   "name": "python",
   "nbconvert_exporter": "python",
   "pygments_lexer": "ipython3",
   "version": "3.7.0"
  }
 },
 "nbformat": 4,
 "nbformat_minor": 2
}
